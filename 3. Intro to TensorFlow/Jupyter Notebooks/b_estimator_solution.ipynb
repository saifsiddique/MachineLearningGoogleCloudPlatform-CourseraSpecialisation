{
 "cells": [
  {
   "cell_type": "code",
   "execution_count": 1,
   "metadata": {
    "colab": {},
    "colab_type": "code",
    "id": "SzMETjagVah3"
   },
   "outputs": [
    {
     "name": "stderr",
     "output_type": "stream",
     "text": [
      "/usr/local/envs/py2env/lib/python2.7/site-packages/h5py/__init__.py:36: FutureWarning: Conversion of the second argument of issubdtype from `float` to `np.floating` is deprecated. In future, it will be treated as `np.float64 == np.dtype(float).type`.\n",
      "  from ._conv import register_converters as _register_converters\n"
     ]
    }
   ],
   "source": [
    "import math\n",
    "import numpy as np\n",
    "import tensorflow as tf\n",
    "\n",
    "import pandas as pd"
   ]
  },
  {
   "cell_type": "code",
   "execution_count": 2,
   "metadata": {
    "colab": {
     "base_uri": "https://8080-dot-6433628-dot-devshell.appspot.com/",
     "height": 118
    },
    "colab_type": "code",
    "id": "tnrfNWTNVah-",
    "outputId": "c789106d-606d-4daf-b911-0519f2a2b67b"
   },
   "outputs": [
    {
     "name": "stdout",
     "output_type": "stream",
     "text": [
      "   base_radius    height     volume\n",
      "0     1.685299  0.993687   8.866523\n",
      "1     1.288739  1.569738   8.190435\n",
      "2     1.174624  1.832504   7.943148\n",
      "3     1.546657  1.976968  14.857219\n",
      "4     0.700963  1.682245   2.596742\n"
     ]
    }
   ],
   "source": [
    "\n",
    "def generate_cylinder_dataset(size):\n",
    "  base_radius = np.random.uniform(low=0.5, high=2.0, size=size)\n",
    "  height = np.random.uniform(low=0.5, high=2.0, size=size)\n",
    "  volume = math.pi * (base_radius ** 2) * height\n",
    "  return pd.DataFrame({'base_radius': base_radius, 'height': height, 'volume': volume})\n",
    "\n",
    "cylinder_train_df = generate_cylinder_dataset(500000)\n",
    "cylinder_test_df = generate_cylinder_dataset(1000)\n",
    "print cylinder_train_df.head()"
   ]
  },
  {
   "cell_type": "code",
   "execution_count": 3,
   "metadata": {
    "colab": {},
    "colab_type": "code",
    "id": "Q3whX_cGVaiB"
   },
   "outputs": [],
   "source": [
    "feature_columns = [\n",
    "  tf.feature_column.numeric_column(\"base_radius\"),\n",
    "  tf.feature_column.numeric_column(\"height\")\n",
    "]\n",
    "\n",
    "def make_input_fn(df, num_epochs, batch_size=512):\n",
    "  return tf.estimator.inputs.pandas_input_fn(\n",
    "    df,\n",
    "    df['volume'],\n",
    "    batch_size=batch_size,\n",
    "    num_epochs=num_epochs,\n",
    "    shuffle=True\n",
    "  )\n",
    "\n",
    "\n",
    "def predict_input_fn():\n",
    "  features = {\n",
    "    \"base_radius\": tf.constant([1.5]),\n",
    "    \"height\": tf.constant([2.0])\n",
    "  }\n",
    "  return features"
   ]
  },
  {
   "cell_type": "code",
   "execution_count": 4,
   "metadata": {
    "colab": {
     "base_uri": "https://8080-dot-6433628-dot-devshell.appspot.com/",
     "height": 709
    },
    "colab_type": "code",
    "id": "jaiomdXRVaiD",
    "outputId": "0c95f295-4a08-4e29-bbc0-b3b9933232bf"
   },
   "outputs": [
    {
     "name": "stdout",
     "output_type": "stream",
     "text": [
      "INFO:tensorflow:Using default config.\n",
      "WARNING:tensorflow:Using temporary folder as model directory: /tmp/tmp1TgOgV\n",
      "INFO:tensorflow:Using config: {'_save_checkpoints_secs': 600, '_session_config': None, '_keep_checkpoint_max': 5, '_task_type': 'worker', '_train_distribute': None, '_is_chief': True, '_cluster_spec': <tensorflow.python.training.server_lib.ClusterSpec object at 0x7f4af566af50>, '_evaluation_master': '', '_save_checkpoints_steps': None, '_keep_checkpoint_every_n_hours': 10000, '_service': None, '_num_ps_replicas': 0, '_tf_random_seed': None, '_master': '', '_num_worker_replicas': 1, '_task_id': 0, '_log_step_count_steps': 100, '_model_dir': '/tmp/tmp1TgOgV', '_global_id_in_cluster': 0, '_save_summary_steps': 100}\n",
      "INFO:tensorflow:Calling model_fn.\n",
      "INFO:tensorflow:Done calling model_fn.\n",
      "INFO:tensorflow:Create CheckpointSaverHook.\n",
      "INFO:tensorflow:Graph was finalized.\n",
      "INFO:tensorflow:Running local_init_op.\n",
      "INFO:tensorflow:Done running local_init_op.\n",
      "INFO:tensorflow:Saving checkpoints for 1 into /tmp/tmp1TgOgV/model.ckpt.\n",
      "INFO:tensorflow:loss = 75342.77, step = 1\n",
      "INFO:tensorflow:global_step/sec: 99.5504\n",
      "INFO:tensorflow:loss = 1772.9528, step = 101 (1.012 sec)\n",
      "INFO:tensorflow:global_step/sec: 106.329\n",
      "INFO:tensorflow:loss = 422.67972, step = 201 (0.942 sec)\n",
      "INFO:tensorflow:global_step/sec: 108.132\n",
      "INFO:tensorflow:loss = 133.17645, step = 301 (0.924 sec)\n",
      "INFO:tensorflow:global_step/sec: 108.975\n",
      "INFO:tensorflow:loss = 93.38501, step = 401 (0.918 sec)\n",
      "INFO:tensorflow:global_step/sec: 112.176\n",
      "INFO:tensorflow:loss = 101.28271, step = 501 (0.890 sec)\n",
      "INFO:tensorflow:global_step/sec: 105.907\n",
      "INFO:tensorflow:loss = 74.14632, step = 601 (0.945 sec)\n",
      "INFO:tensorflow:global_step/sec: 108.419\n",
      "INFO:tensorflow:loss = 61.22574, step = 701 (0.925 sec)\n",
      "INFO:tensorflow:global_step/sec: 109.766\n",
      "INFO:tensorflow:loss = 69.642715, step = 801 (0.910 sec)\n",
      "INFO:tensorflow:global_step/sec: 102.317\n",
      "INFO:tensorflow:loss = 24.584463, step = 901 (0.977 sec)\n",
      "INFO:tensorflow:global_step/sec: 106.202\n",
      "INFO:tensorflow:loss = 34.347694, step = 1001 (0.941 sec)\n",
      "INFO:tensorflow:global_step/sec: 105.978\n",
      "INFO:tensorflow:loss = 23.963009, step = 1101 (0.943 sec)\n",
      "INFO:tensorflow:global_step/sec: 110.098\n",
      "INFO:tensorflow:loss = 18.76138, step = 1201 (0.908 sec)\n",
      "INFO:tensorflow:global_step/sec: 109.63\n",
      "INFO:tensorflow:loss = 25.670584, step = 1301 (0.913 sec)\n",
      "INFO:tensorflow:global_step/sec: 101.292\n",
      "INFO:tensorflow:loss = 58.901028, step = 1401 (0.990 sec)\n",
      "INFO:tensorflow:global_step/sec: 103.06\n",
      "INFO:tensorflow:loss = 13.061516, step = 1501 (0.968 sec)\n",
      "INFO:tensorflow:global_step/sec: 103.269\n",
      "INFO:tensorflow:loss = 10.817358, step = 1601 (0.968 sec)\n",
      "INFO:tensorflow:global_step/sec: 107.602\n",
      "INFO:tensorflow:loss = 33.842556, step = 1701 (0.929 sec)\n",
      "INFO:tensorflow:global_step/sec: 109.146\n",
      "INFO:tensorflow:loss = 10.2699585, step = 1801 (0.917 sec)\n",
      "INFO:tensorflow:global_step/sec: 106.803\n",
      "INFO:tensorflow:loss = 13.800874, step = 1901 (0.936 sec)\n",
      "INFO:tensorflow:global_step/sec: 105.548\n",
      "INFO:tensorflow:loss = 9.109495, step = 2001 (0.950 sec)\n",
      "INFO:tensorflow:global_step/sec: 107.194\n",
      "INFO:tensorflow:loss = 25.703907, step = 2101 (0.932 sec)\n",
      "INFO:tensorflow:global_step/sec: 103.666\n",
      "INFO:tensorflow:loss = 8.586525, step = 2201 (0.965 sec)\n",
      "INFO:tensorflow:global_step/sec: 108.585\n",
      "INFO:tensorflow:loss = 8.626035, step = 2301 (0.921 sec)\n",
      "INFO:tensorflow:global_step/sec: 111.876\n",
      "INFO:tensorflow:loss = 8.619082, step = 2401 (0.897 sec)\n",
      "INFO:tensorflow:global_step/sec: 106.704\n",
      "INFO:tensorflow:loss = 7.521854, step = 2501 (0.932 sec)\n",
      "INFO:tensorflow:global_step/sec: 108.515\n",
      "INFO:tensorflow:loss = 9.064386, step = 2601 (0.922 sec)\n",
      "INFO:tensorflow:global_step/sec: 105.413\n",
      "INFO:tensorflow:loss = 7.457966, step = 2701 (0.950 sec)\n",
      "INFO:tensorflow:global_step/sec: 105.153\n",
      "INFO:tensorflow:loss = 7.653596, step = 2801 (0.949 sec)\n",
      "INFO:tensorflow:global_step/sec: 105.926\n",
      "INFO:tensorflow:loss = 23.830479, step = 2901 (0.945 sec)\n",
      "INFO:tensorflow:global_step/sec: 106.797\n",
      "INFO:tensorflow:loss = 8.019719, step = 3001 (0.936 sec)\n",
      "INFO:tensorflow:global_step/sec: 108.415\n",
      "INFO:tensorflow:loss = 14.582909, step = 3101 (0.922 sec)\n",
      "INFO:tensorflow:global_step/sec: 107.009\n",
      "INFO:tensorflow:loss = 13.101677, step = 3201 (0.936 sec)\n",
      "INFO:tensorflow:global_step/sec: 107.729\n",
      "INFO:tensorflow:loss = 6.3445897, step = 3301 (0.929 sec)\n",
      "INFO:tensorflow:global_step/sec: 110.097\n",
      "INFO:tensorflow:loss = 12.670713, step = 3401 (0.906 sec)\n",
      "INFO:tensorflow:global_step/sec: 108.545\n",
      "INFO:tensorflow:loss = 8.064296, step = 3501 (0.926 sec)\n",
      "INFO:tensorflow:global_step/sec: 107.165\n",
      "INFO:tensorflow:loss = 6.2655954, step = 3601 (0.929 sec)\n",
      "INFO:tensorflow:global_step/sec: 107.371\n",
      "INFO:tensorflow:loss = 5.8705926, step = 3701 (0.931 sec)\n",
      "INFO:tensorflow:global_step/sec: 106.731\n",
      "INFO:tensorflow:loss = 7.348708, step = 3801 (0.941 sec)\n",
      "INFO:tensorflow:global_step/sec: 106.084\n",
      "INFO:tensorflow:loss = 21.281755, step = 3901 (0.939 sec)\n",
      "INFO:tensorflow:global_step/sec: 108.613\n",
      "INFO:tensorflow:loss = 5.563229, step = 4001 (0.921 sec)\n",
      "INFO:tensorflow:global_step/sec: 106.584\n",
      "INFO:tensorflow:loss = 5.5051966, step = 4101 (0.938 sec)\n",
      "INFO:tensorflow:global_step/sec: 108.865\n",
      "INFO:tensorflow:loss = 6.4440184, step = 4201 (0.918 sec)\n",
      "INFO:tensorflow:global_step/sec: 108.883\n",
      "INFO:tensorflow:loss = 5.660926, step = 4301 (0.918 sec)\n",
      "INFO:tensorflow:global_step/sec: 106.383\n",
      "INFO:tensorflow:loss = 13.426678, step = 4401 (0.940 sec)\n",
      "INFO:tensorflow:global_step/sec: 107.74\n",
      "INFO:tensorflow:loss = 9.927496, step = 4501 (0.928 sec)\n",
      "INFO:tensorflow:global_step/sec: 111.468\n",
      "INFO:tensorflow:loss = 6.212984, step = 4601 (0.897 sec)\n",
      "INFO:tensorflow:global_step/sec: 107.105\n",
      "INFO:tensorflow:loss = 5.3285875, step = 4701 (0.935 sec)\n",
      "INFO:tensorflow:global_step/sec: 106.477\n",
      "INFO:tensorflow:loss = 6.402361, step = 4801 (0.938 sec)\n",
      "INFO:tensorflow:global_step/sec: 108.746\n",
      "INFO:tensorflow:loss = 12.839922, step = 4901 (0.919 sec)\n",
      "INFO:tensorflow:Saving checkpoints for 5000 into /tmp/tmp1TgOgV/model.ckpt.\n",
      "INFO:tensorflow:Loss for final step: 4.6824913.\n",
      "WARNING:tensorflow:Input graph does not use tf.data.Dataset or contain a QueueRunner. That means predict yields forever. This is probably a mistake.\n",
      "INFO:tensorflow:Calling model_fn.\n",
      "INFO:tensorflow:Done calling model_fn.\n",
      "INFO:tensorflow:Graph was finalized.\n",
      "INFO:tensorflow:Restoring parameters from /tmp/tmp1TgOgV/model.ckpt-5000\n",
      "INFO:tensorflow:Running local_init_op.\n",
      "INFO:tensorflow:Done running local_init_op.\n",
      "{'predictions': array([13.939752], dtype=float32)}\n",
      "14.1371669412\n"
     ]
    }
   ],
   "source": [
    "model = tf.estimator.DNNRegressor(\n",
    "  feature_columns=feature_columns,\n",
    "  hidden_units=[64, 32, 32, 16],\n",
    "  optimizer=tf.train.AdagradOptimizer(learning_rate=0.05)\n",
    ")\n",
    "\n",
    "model.train(make_input_fn(cylinder_train_df, None, 1000), max_steps=5000)\n",
    "predictions = model.predict(predict_input_fn)\n",
    "print predictions.next()\n",
    "print math.pi * (1.5 ** 2) * 2.0"
   ]
  },
  {
   "cell_type": "code",
   "execution_count": 5,
   "metadata": {
    "colab": {
     "base_uri": "https://8080-dot-6433628-dot-devshell.appspot.com/",
     "height": 222
    },
    "colab_type": "code",
    "id": "3eiffX8lVaiG",
    "outputId": "0e90d4ba-1de7-4722-da2a-ce3b8348e091"
   },
   "outputs": [
    {
     "name": "stdout",
     "output_type": "stream",
     "text": [
      "INFO:tensorflow:Calling model_fn.\n",
      "INFO:tensorflow:Done calling model_fn.\n",
      "INFO:tensorflow:Starting evaluation at 2019-02-19-17:18:03\n",
      "INFO:tensorflow:Graph was finalized.\n",
      "INFO:tensorflow:Restoring parameters from /tmp/tmp1TgOgV/model.ckpt-5000\n",
      "INFO:tensorflow:Running local_init_op.\n",
      "INFO:tensorflow:Done running local_init_op.\n",
      "INFO:tensorflow:Finished evaluation at 2019-02-19-17:18:04\n",
      "INFO:tensorflow:Saving dict for global step 5000: average_loss = 0.004330344, global_step = 5000, loss = 2.165172\n",
      "RMSE on test dataset = 0.0658053532243\n"
     ]
    }
   ],
   "source": [
    "def print_rmse(model, name, df):\n",
    "  metrics = model.evaluate(input_fn = make_input_fn(cylinder_test_df, 1))\n",
    "  print('RMSE on {} dataset = {}'.format(name, np.sqrt(metrics['average_loss'])))\n",
    "\n",
    "print_rmse(model, 'test', cylinder_test_df)"
   ]
  },
  {
   "cell_type": "markdown",
   "metadata": {
    "colab_type": "text",
    "id": "evOrmYSGVaiJ"
   },
   "source": [
    "Copyright 2018 Google Inc. Licensed under the Apache License, Version 2.0 (the \"License\"); you may not use this file except in compliance with the License. You may obtain a copy of the License at http://www.apache.org/licenses/LICENSE-2.0 Unless required by applicable law or agreed to in writing, software distributed under the License is distributed on an \"AS IS\" BASIS, WITHOUT WARRANTIES OR CONDITIONS OF ANY KIND, either express or implied. See the License for the specific language governing permissions and limitations under the License"
   ]
  },
  {
   "cell_type": "code",
   "execution_count": 0,
   "metadata": {
    "colab": {},
    "colab_type": "code",
    "id": "if_65Yq0heBb"
   },
   "outputs": [],
   "source": []
  }
 ],
 "metadata": {
  "colab": {
   "collapsed_sections": [],
   "name": "c_dataset_challenge.ipynb",
   "provenance": [],
   "version": "0.3.2"
  },
  "kernelspec": {
   "display_name": "Python 2",
   "language": "python",
   "name": "python2"
  },
  "language_info": {
   "codemirror_mode": {
    "name": "ipython",
    "version": 2
   },
   "file_extension": ".py",
   "mimetype": "text/x-python",
   "name": "python",
   "nbconvert_exporter": "python",
   "pygments_lexer": "ipython2",
   "version": "2.7.15"
  }
 },
 "nbformat": 4,
 "nbformat_minor": 1
}
